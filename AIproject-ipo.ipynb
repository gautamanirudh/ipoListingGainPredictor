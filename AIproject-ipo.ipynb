{
 "cells": [
  {
   "cell_type": "code",
   "execution_count": 75,
   "metadata": {},
   "outputs": [],
   "source": [
    "import pandas as pd\n",
    "import numpy as np\n",
    "import os\n",
    "from sklearn.linear_model import LinearRegression\n",
    "import matplotlib.pyplot as plt\n",
    "import seaborn as sns\n",
    "sns.set()"
   ]
  },
  {
   "cell_type": "code",
   "execution_count": 110,
   "metadata": {},
   "outputs": [
    {
     "data": {
      "text/html": [
       "<div>\n",
       "<style scoped>\n",
       "    .dataframe tbody tr th:only-of-type {\n",
       "        vertical-align: middle;\n",
       "    }\n",
       "\n",
       "    .dataframe tbody tr th {\n",
       "        vertical-align: top;\n",
       "    }\n",
       "\n",
       "    .dataframe thead th {\n",
       "        text-align: right;\n",
       "    }\n",
       "</style>\n",
       "<table border=\"1\" class=\"dataframe\">\n",
       "  <thead>\n",
       "    <tr style=\"text-align: right;\">\n",
       "      <th></th>\n",
       "      <th>Issuer Company</th>\n",
       "      <th>Listing Date</th>\n",
       "      <th>Issue Price</th>\n",
       "      <th>Issue Size\\n(Rs Cr)</th>\n",
       "      <th>QIB</th>\n",
       "      <th>NII</th>\n",
       "      <th>RII</th>\n",
       "      <th>EMP</th>\n",
       "      <th>Total</th>\n",
       "      <th>Open Price</th>\n",
       "      <th>Low Price</th>\n",
       "      <th>High Price</th>\n",
       "      <th>Close Price</th>\n",
       "      <th>* % Change</th>\n",
       "    </tr>\n",
       "  </thead>\n",
       "  <tbody>\n",
       "    <tr>\n",
       "      <th>0</th>\n",
       "      <td>Gland Pharma Limited IPO</td>\n",
       "      <td>2020-11-20</td>\n",
       "      <td>1500</td>\n",
       "      <td>6479.55</td>\n",
       "      <td>6.40</td>\n",
       "      <td>0.51</td>\n",
       "      <td>0.24</td>\n",
       "      <td>NaN</td>\n",
       "      <td>2.06</td>\n",
       "      <td>1701.00</td>\n",
       "      <td>1701.0</td>\n",
       "      <td>1850.00</td>\n",
       "      <td>1820.45</td>\n",
       "      <td>21.36</td>\n",
       "    </tr>\n",
       "    <tr>\n",
       "      <th>1</th>\n",
       "      <td>Equitas Small Finance Bank Ltd IPO</td>\n",
       "      <td>2020-11-02</td>\n",
       "      <td>33</td>\n",
       "      <td>517.60</td>\n",
       "      <td>3.91</td>\n",
       "      <td>0.22</td>\n",
       "      <td>2.08</td>\n",
       "      <td>1.84</td>\n",
       "      <td>1.95</td>\n",
       "      <td>31.00</td>\n",
       "      <td>30.1</td>\n",
       "      <td>33.05</td>\n",
       "      <td>32.75</td>\n",
       "      <td>-0.76</td>\n",
       "    </tr>\n",
       "    <tr>\n",
       "      <th>2</th>\n",
       "      <td>Likhitha Infrastructure Ltd IPO</td>\n",
       "      <td>2020-10-15</td>\n",
       "      <td>120</td>\n",
       "      <td>61.20</td>\n",
       "      <td>21.99</td>\n",
       "      <td>1.54</td>\n",
       "      <td>23.71</td>\n",
       "      <td>NaN</td>\n",
       "      <td>9.51</td>\n",
       "      <td>130.10</td>\n",
       "      <td>125.0</td>\n",
       "      <td>136.60</td>\n",
       "      <td>136.60</td>\n",
       "      <td>13.83</td>\n",
       "    </tr>\n",
       "    <tr>\n",
       "      <th>3</th>\n",
       "      <td>Mazagon Dock Shipbuilders Limited IPO</td>\n",
       "      <td>2020-10-12</td>\n",
       "      <td>145</td>\n",
       "      <td>443.69</td>\n",
       "      <td>89.71</td>\n",
       "      <td>678.88</td>\n",
       "      <td>35.63</td>\n",
       "      <td>3.88</td>\n",
       "      <td>157.41</td>\n",
       "      <td>216.25</td>\n",
       "      <td>173.0</td>\n",
       "      <td>216.65</td>\n",
       "      <td>173.00</td>\n",
       "      <td>19.31</td>\n",
       "    </tr>\n",
       "    <tr>\n",
       "      <th>4</th>\n",
       "      <td>UTI Asset Management Company Ltd IPO</td>\n",
       "      <td>2020-10-12</td>\n",
       "      <td>554</td>\n",
       "      <td>2159.88</td>\n",
       "      <td>3.34</td>\n",
       "      <td>0.93</td>\n",
       "      <td>2.32</td>\n",
       "      <td>1.34</td>\n",
       "      <td>2.31</td>\n",
       "      <td>490.25</td>\n",
       "      <td>471.1</td>\n",
       "      <td>530.00</td>\n",
       "      <td>476.60</td>\n",
       "      <td>-13.97</td>\n",
       "    </tr>\n",
       "  </tbody>\n",
       "</table>\n",
       "</div>"
      ],
      "text/plain": [
       "                          Issuer Company Listing Date  Issue Price  \\\n",
       "0               Gland Pharma Limited IPO   2020-11-20         1500   \n",
       "1     Equitas Small Finance Bank Ltd IPO   2020-11-02           33   \n",
       "2        Likhitha Infrastructure Ltd IPO   2020-10-15          120   \n",
       "3  Mazagon Dock Shipbuilders Limited IPO   2020-10-12          145   \n",
       "4   UTI Asset Management Company Ltd IPO   2020-10-12          554   \n",
       "\n",
       "   Issue Size\\n(Rs Cr)    QIB     NII    RII   EMP   Total  Open Price  \\\n",
       "0              6479.55   6.40    0.51   0.24   NaN    2.06     1701.00   \n",
       "1               517.60   3.91    0.22   2.08  1.84    1.95       31.00   \n",
       "2                61.20  21.99    1.54  23.71   NaN    9.51      130.10   \n",
       "3               443.69  89.71  678.88  35.63  3.88  157.41      216.25   \n",
       "4              2159.88   3.34    0.93   2.32  1.34    2.31      490.25   \n",
       "\n",
       "   Low Price  High Price  Close Price  * % Change  \n",
       "0     1701.0     1850.00      1820.45       21.36  \n",
       "1       30.1       33.05        32.75       -0.76  \n",
       "2      125.0      136.60       136.60       13.83  \n",
       "3      173.0      216.65       173.00       19.31  \n",
       "4      471.1      530.00       476.60      -13.97  "
      ]
     },
     "execution_count": 110,
     "metadata": {},
     "output_type": "execute_result"
    }
   ],
   "source": [
    "ipo = pd.read_excel(\"ipodata.xlsx\")\n",
    "ipo.head()"
   ]
  },
  {
   "cell_type": "code",
   "execution_count": 111,
   "metadata": {},
   "outputs": [],
   "source": [
    "ipo[\"changeOpen\"] = round((ipo[\"Open Price\"] - ipo[\"Issue Price\"])/ ipo[\"Issue Price\"],3)*100\n"
   ]
  },
  {
   "cell_type": "code",
   "execution_count": 112,
   "metadata": {},
   "outputs": [
    {
     "data": {
      "text/html": [
       "<div>\n",
       "<style scoped>\n",
       "    .dataframe tbody tr th:only-of-type {\n",
       "        vertical-align: middle;\n",
       "    }\n",
       "\n",
       "    .dataframe tbody tr th {\n",
       "        vertical-align: top;\n",
       "    }\n",
       "\n",
       "    .dataframe thead th {\n",
       "        text-align: right;\n",
       "    }\n",
       "</style>\n",
       "<table border=\"1\" class=\"dataframe\">\n",
       "  <thead>\n",
       "    <tr style=\"text-align: right;\">\n",
       "      <th></th>\n",
       "      <th>Issuer Company</th>\n",
       "      <th>Listing Date</th>\n",
       "      <th>issueSize</th>\n",
       "      <th>QIB</th>\n",
       "      <th>NII</th>\n",
       "      <th>RII</th>\n",
       "      <th>changeOpen</th>\n",
       "      <th>Total</th>\n",
       "    </tr>\n",
       "  </thead>\n",
       "  <tbody>\n",
       "    <tr>\n",
       "      <th>0</th>\n",
       "      <td>Gland Pharma Limited IPO</td>\n",
       "      <td>2020-11-20</td>\n",
       "      <td>6479.55</td>\n",
       "      <td>6.40</td>\n",
       "      <td>0.51</td>\n",
       "      <td>0.24</td>\n",
       "      <td>13.4</td>\n",
       "      <td>2.06</td>\n",
       "    </tr>\n",
       "    <tr>\n",
       "      <th>1</th>\n",
       "      <td>Equitas Small Finance Bank Ltd IPO</td>\n",
       "      <td>2020-11-02</td>\n",
       "      <td>517.60</td>\n",
       "      <td>3.91</td>\n",
       "      <td>0.22</td>\n",
       "      <td>2.08</td>\n",
       "      <td>-6.1</td>\n",
       "      <td>1.95</td>\n",
       "    </tr>\n",
       "    <tr>\n",
       "      <th>2</th>\n",
       "      <td>Likhitha Infrastructure Ltd IPO</td>\n",
       "      <td>2020-10-15</td>\n",
       "      <td>61.20</td>\n",
       "      <td>21.99</td>\n",
       "      <td>1.54</td>\n",
       "      <td>23.71</td>\n",
       "      <td>8.4</td>\n",
       "      <td>9.51</td>\n",
       "    </tr>\n",
       "    <tr>\n",
       "      <th>3</th>\n",
       "      <td>Mazagon Dock Shipbuilders Limited IPO</td>\n",
       "      <td>2020-10-12</td>\n",
       "      <td>443.69</td>\n",
       "      <td>89.71</td>\n",
       "      <td>678.88</td>\n",
       "      <td>35.63</td>\n",
       "      <td>49.1</td>\n",
       "      <td>157.41</td>\n",
       "    </tr>\n",
       "    <tr>\n",
       "      <th>4</th>\n",
       "      <td>UTI Asset Management Company Ltd IPO</td>\n",
       "      <td>2020-10-12</td>\n",
       "      <td>2159.88</td>\n",
       "      <td>3.34</td>\n",
       "      <td>0.93</td>\n",
       "      <td>2.32</td>\n",
       "      <td>-11.5</td>\n",
       "      <td>2.31</td>\n",
       "    </tr>\n",
       "    <tr>\n",
       "      <th>...</th>\n",
       "      <td>...</td>\n",
       "      <td>...</td>\n",
       "      <td>...</td>\n",
       "      <td>...</td>\n",
       "      <td>...</td>\n",
       "      <td>...</td>\n",
       "      <td>...</td>\n",
       "      <td>...</td>\n",
       "    </tr>\n",
       "    <tr>\n",
       "      <th>414</th>\n",
       "      <td>Akruti Nirman Limited IPO</td>\n",
       "      <td>2007-02-07</td>\n",
       "      <td>361.80</td>\n",
       "      <td>118.10</td>\n",
       "      <td>64.73</td>\n",
       "      <td>12.40</td>\n",
       "      <td>29.9</td>\n",
       "      <td>81.05</td>\n",
       "    </tr>\n",
       "    <tr>\n",
       "      <th>415</th>\n",
       "      <td>Autoline Industries Limited IPO</td>\n",
       "      <td>2007-01-31</td>\n",
       "      <td>75.00</td>\n",
       "      <td>16.26</td>\n",
       "      <td>32.44</td>\n",
       "      <td>12.46</td>\n",
       "      <td>16.1</td>\n",
       "      <td>17.36</td>\n",
       "    </tr>\n",
       "    <tr>\n",
       "      <th>416</th>\n",
       "      <td>Cairn India Ltd IPO</td>\n",
       "      <td>2007-01-09</td>\n",
       "      <td>5260.79</td>\n",
       "      <td>1.36</td>\n",
       "      <td>0.47</td>\n",
       "      <td>0.91</td>\n",
       "      <td>-12.5</td>\n",
       "      <td>1.14</td>\n",
       "    </tr>\n",
       "    <tr>\n",
       "      <th>417</th>\n",
       "      <td>Pyramid Saimira Theatre Ltd IPO</td>\n",
       "      <td>2007-01-05</td>\n",
       "      <td>84.44</td>\n",
       "      <td>15.31</td>\n",
       "      <td>29.79</td>\n",
       "      <td>14.48</td>\n",
       "      <td>35.0</td>\n",
       "      <td>16.26</td>\n",
       "    </tr>\n",
       "    <tr>\n",
       "      <th>418</th>\n",
       "      <td>Tanla Solutions Ltd IPO</td>\n",
       "      <td>2007-01-05</td>\n",
       "      <td>378.86</td>\n",
       "      <td>57.06</td>\n",
       "      <td>41.58</td>\n",
       "      <td>11.09</td>\n",
       "      <td>43.3</td>\n",
       "      <td>38.65</td>\n",
       "    </tr>\n",
       "  </tbody>\n",
       "</table>\n",
       "<p>419 rows × 8 columns</p>\n",
       "</div>"
      ],
      "text/plain": [
       "                            Issuer Company Listing Date  issueSize     QIB  \\\n",
       "0                 Gland Pharma Limited IPO   2020-11-20    6479.55    6.40   \n",
       "1       Equitas Small Finance Bank Ltd IPO   2020-11-02     517.60    3.91   \n",
       "2          Likhitha Infrastructure Ltd IPO   2020-10-15      61.20   21.99   \n",
       "3    Mazagon Dock Shipbuilders Limited IPO   2020-10-12     443.69   89.71   \n",
       "4     UTI Asset Management Company Ltd IPO   2020-10-12    2159.88    3.34   \n",
       "..                                     ...          ...        ...     ...   \n",
       "414              Akruti Nirman Limited IPO   2007-02-07     361.80  118.10   \n",
       "415        Autoline Industries Limited IPO   2007-01-31      75.00   16.26   \n",
       "416                    Cairn India Ltd IPO   2007-01-09    5260.79    1.36   \n",
       "417        Pyramid Saimira Theatre Ltd IPO   2007-01-05      84.44   15.31   \n",
       "418                Tanla Solutions Ltd IPO   2007-01-05     378.86   57.06   \n",
       "\n",
       "        NII    RII  changeOpen   Total  \n",
       "0      0.51   0.24        13.4    2.06  \n",
       "1      0.22   2.08        -6.1    1.95  \n",
       "2      1.54  23.71         8.4    9.51  \n",
       "3    678.88  35.63        49.1  157.41  \n",
       "4      0.93   2.32       -11.5    2.31  \n",
       "..      ...    ...         ...     ...  \n",
       "414   64.73  12.40        29.9   81.05  \n",
       "415   32.44  12.46        16.1   17.36  \n",
       "416    0.47   0.91       -12.5    1.14  \n",
       "417   29.79  14.48        35.0   16.26  \n",
       "418   41.58  11.09        43.3   38.65  \n",
       "\n",
       "[419 rows x 8 columns]"
      ]
     },
     "execution_count": 112,
     "metadata": {},
     "output_type": "execute_result"
    }
   ],
   "source": [
    "ipo = ipo[[\"Issuer Company\",\"Listing Date\",\"Issue Size\\n(Rs Cr)\",'QIB', 'NII', 'RII',\"changeOpen\",\"Total\"]]\n",
    "ipo.rename(columns = {\"Issue Size\\n(Rs Cr)\":\"issueSize\"},inplace = True)\n",
    "ipo"
   ]
  },
  {
   "cell_type": "code",
   "execution_count": 113,
   "metadata": {},
   "outputs": [
    {
     "data": {
      "text/plain": [
       "<matplotlib.axes._subplots.AxesSubplot at 0x196e9e4b220>"
      ]
     },
     "execution_count": 113,
     "metadata": {},
     "output_type": "execute_result"
    },
    {
     "data": {
      "image/png": "[encoded data removed]",
      "text/plain": [
       "<Figure size 432x288 with 2 Axes>"
      ]
     },
     "metadata": {},
     "output_type": "display_data"
    }
   ],
   "source": [
    "sns.heatmap(ipo.corr())"
   ]
  },
  {
   "cell_type": "code",
   "execution_count": 114,
   "metadata": {},
   "outputs": [
    {
     "data": {
      "text/plain": [
       "<matplotlib.axes._subplots.AxesSubplot at 0x196ea124940>"
      ]
     },
     "execution_count": 114,
     "metadata": {},
     "output_type": "execute_result"
    },
    {
     "data": {
      "image/png": "[encoded data removed]",
      "text/plain": [
       "<Figure size 432x288 with 1 Axes>"
      ]
     },
     "metadata": {},
     "output_type": "display_data"
    }
   ],
   "source": [
    "sns.boxplot(ipo.NII)"
   ]
  },
  {
   "cell_type": "code",
   "execution_count": 115,
   "metadata": {},
   "outputs": [
    {
     "data": {
      "text/plain": [
       "<matplotlib.axes._subplots.AxesSubplot at 0x196ea1806d0>"
      ]
     },
     "execution_count": 115,
     "metadata": {},
     "output_type": "execute_result"
    },
    {
     "data": {
      "image/png": "[encoded data removed]",
      "text/plain": [
       "<Figure size 432x288 with 1 Axes>"
      ]
     },
     "metadata": {},
     "output_type": "display_data"
    }
   ],
   "source": [
    "sns.boxplot(ipo.RII)"
   ]
  },
  {
   "cell_type": "markdown",
   "metadata": {},
   "source": [
    "### Removing data > 99th percentile"
   ]
  },
  {
   "cell_type": "code",
   "execution_count": 116,
   "metadata": {},
   "outputs": [],
   "source": [
    "q99 = ipo.QIB.quantile(0.99)\n",
    "n99 = ipo.NII.quantile(0.99)\n",
    "r99 = ipo.RII.quantile(0.99)\n",
    "ipo = ipo[(ipo.QIB < q99) & (ipo.NII < n99) & (ipo.RII < r99)  ]"
   ]
  },
  {
   "cell_type": "code",
   "execution_count": 117,
   "metadata": {},
   "outputs": [
    {
     "data": {
      "text/plain": [
       "(377, 8)"
      ]
     },
     "execution_count": 117,
     "metadata": {},
     "output_type": "execute_result"
    }
   ],
   "source": [
    "ipo.shape"
   ]
  },
  {
   "cell_type": "code",
   "execution_count": 118,
   "metadata": {},
   "outputs": [
    {
     "data": {
      "text/plain": [
       "Index(['Issuer Company', 'Listing Date', 'issueSize', 'QIB', 'NII', 'RII',\n",
       "       'changeOpen', 'Total'],\n",
       "      dtype='object')"
      ]
     },
     "execution_count": 118,
     "metadata": {},
     "output_type": "execute_result"
    }
   ],
   "source": [
    "ipo.columns"
   ]
  },
  {
   "cell_type": "code",
   "execution_count": null,
   "metadata": {},
   "outputs": [],
   "source": []
  },
  {
   "cell_type": "markdown",
   "metadata": {},
   "source": [
    "## Filling Null values"
   ]
  },
  {
   "cell_type": "code",
   "execution_count": 119,
   "metadata": {},
   "outputs": [
    {
     "data": {
      "text/plain": [
       "Issuer Company    0\n",
       "Listing Date      0\n",
       "issueSize         0\n",
       "QIB               0\n",
       "NII               0\n",
       "RII               0\n",
       "changeOpen        0\n",
       "Total             0\n",
       "dtype: int64"
      ]
     },
     "execution_count": 119,
     "metadata": {},
     "output_type": "execute_result"
    }
   ],
   "source": [
    "ipo.isna().sum()"
   ]
  },
  {
   "cell_type": "code",
   "execution_count": 120,
   "metadata": {},
   "outputs": [
    {
     "name": "stderr",
     "output_type": "stream",
     "text": [
      "C:\\ProgramData\\Anaconda3\\lib\\site-packages\\pandas\\core\\generic.py:5303: SettingWithCopyWarning: \n",
      "A value is trying to be set on a copy of a slice from a DataFrame.\n",
      "Try using .loc[row_indexer,col_indexer] = value instead\n",
      "\n",
      "See the caveats in the documentation: https://pandas.pydata.org/pandas-docs/stable/user_guide/indexing.html#returning-a-view-versus-a-copy\n",
      "  self[name] = value\n"
     ]
    }
   ],
   "source": [
    "ipo.QIB = ipo.QIB.fillna(ipo.QIB.mean())\n",
    "ipo.RII= ipo.RII.fillna(ipo.RII.mean())\n",
    "ipo.NII = ipo.NII.fillna(ipo.NII.mean())\n",
    "ipo.Total = ipo.Total.fillna(ipo.Total.mean())"
   ]
  },
  {
   "cell_type": "code",
   "execution_count": 121,
   "metadata": {},
   "outputs": [
    {
     "data": {
      "text/plain": [
       "<matplotlib.axes._subplots.AxesSubplot at 0x196ea1170d0>"
      ]
     },
     "execution_count": 121,
     "metadata": {},
     "output_type": "execute_result"
    },
    {
     "data": {
      "image/png": "[encoded data removed]",
      "text/plain": [
       "<Figure size 432x288 with 1 Axes>"
      ]
     },
     "metadata": {},
     "output_type": "display_data"
    }
   ],
   "source": [
    "dep_var = [\"issueSize\",'QIB', 'NII', 'RII',\"changeOpen\",]\n",
    "sns.distplot(ipo[dep_var[0]])\n",
    "    "
   ]
  },
  {
   "cell_type": "code",
   "execution_count": 88,
   "metadata": {},
   "outputs": [
    {
     "data": {
      "text/plain": [
       "<matplotlib.axes._subplots.AxesSubplot at 0x196e8823ca0>"
      ]
     },
     "execution_count": 88,
     "metadata": {},
     "output_type": "execute_result"
    },
    {
     "data": {
      "image/png": "[encoded data removed]",
      "text/plain": [
       "<Figure size 432x288 with 1 Axes>"
      ]
     },
     "metadata": {},
     "output_type": "display_data"
    }
   ],
   "source": [
    "sns.distplot(ipo[dep_var[1]])\n",
    "    "
   ]
  },
  {
   "cell_type": "code",
   "execution_count": 89,
   "metadata": {},
   "outputs": [
    {
     "data": {
      "text/plain": [
       "<matplotlib.axes._subplots.AxesSubplot at 0x196e88949d0>"
      ]
     },
     "execution_count": 89,
     "metadata": {},
     "output_type": "execute_result"
    },
    {
     "data": {
      "image/png": "[encoded data removed]",
      "text/plain": [
       "<Figure size 432x288 with 1 Axes>"
      ]
     },
     "metadata": {},
     "output_type": "display_data"
    }
   ],
   "source": [
    "sns.distplot(ipo[dep_var[2]])\n",
    "    "
   ]
  },
  {
   "cell_type": "code",
   "execution_count": 90,
   "metadata": {},
   "outputs": [
    {
     "data": {
      "text/plain": [
       "<matplotlib.axes._subplots.AxesSubplot at 0x196e8969130>"
      ]
     },
     "execution_count": 90,
     "metadata": {},
     "output_type": "execute_result"
    },
    {
     "data": {
      "image/png": "[encoded data removed]",
      "text/plain": [
       "<Figure size 432x288 with 1 Axes>"
      ]
     },
     "metadata": {},
     "output_type": "display_data"
    }
   ],
   "source": [
    "sns.distplot((ipo[dep_var[4]]))"
   ]
  },
  {
   "cell_type": "code",
   "execution_count": 91,
   "metadata": {},
   "outputs": [
    {
     "data": {
      "text/plain": [
       "['issueSize', 'QIB', 'NII', 'RII', 'changeOpen']"
      ]
     },
     "execution_count": 91,
     "metadata": {},
     "output_type": "execute_result"
    }
   ],
   "source": [
    "dep_var"
   ]
  },
  {
   "cell_type": "code",
   "execution_count": null,
   "metadata": {},
   "outputs": [],
   "source": []
  },
  {
   "cell_type": "code",
   "execution_count": 92,
   "metadata": {},
   "outputs": [
    {
     "data": {
      "text/html": [
       "<div>\n",
       "<style scoped>\n",
       "    .dataframe tbody tr th:only-of-type {\n",
       "        vertical-align: middle;\n",
       "    }\n",
       "\n",
       "    .dataframe tbody tr th {\n",
       "        vertical-align: top;\n",
       "    }\n",
       "\n",
       "    .dataframe thead th {\n",
       "        text-align: right;\n",
       "    }\n",
       "</style>\n",
       "<table border=\"1\" class=\"dataframe\">\n",
       "  <thead>\n",
       "    <tr style=\"text-align: right;\">\n",
       "      <th></th>\n",
       "      <th>issueSize</th>\n",
       "      <th>QIB</th>\n",
       "      <th>NII</th>\n",
       "      <th>RII</th>\n",
       "      <th>changeOpen</th>\n",
       "      <th>Total</th>\n",
       "    </tr>\n",
       "  </thead>\n",
       "  <tbody>\n",
       "    <tr>\n",
       "      <th>count</th>\n",
       "      <td>377.000000</td>\n",
       "      <td>377.000000</td>\n",
       "      <td>377.000000</td>\n",
       "      <td>377.000000</td>\n",
       "      <td>377.000000</td>\n",
       "      <td>377.000000</td>\n",
       "    </tr>\n",
       "    <tr>\n",
       "      <th>mean</th>\n",
       "      <td>788.445756</td>\n",
       "      <td>24.173740</td>\n",
       "      <td>45.290769</td>\n",
       "      <td>7.406233</td>\n",
       "      <td>12.177719</td>\n",
       "      <td>21.196684</td>\n",
       "    </tr>\n",
       "    <tr>\n",
       "      <th>std</th>\n",
       "      <td>1733.208105</td>\n",
       "      <td>36.514817</td>\n",
       "      <td>83.260988</td>\n",
       "      <td>10.521354</td>\n",
       "      <td>22.735748</td>\n",
       "      <td>31.176710</td>\n",
       "    </tr>\n",
       "    <tr>\n",
       "      <th>min</th>\n",
       "      <td>14.000000</td>\n",
       "      <td>0.010000</td>\n",
       "      <td>0.030000</td>\n",
       "      <td>0.030000</td>\n",
       "      <td>-31.700000</td>\n",
       "      <td>0.440000</td>\n",
       "    </tr>\n",
       "    <tr>\n",
       "      <th>25%</th>\n",
       "      <td>85.930000</td>\n",
       "      <td>1.340000</td>\n",
       "      <td>1.740000</td>\n",
       "      <td>1.180000</td>\n",
       "      <td>-1.900000</td>\n",
       "      <td>1.810000</td>\n",
       "    </tr>\n",
       "    <tr>\n",
       "      <th>50%</th>\n",
       "      <td>248.070000</td>\n",
       "      <td>5.690000</td>\n",
       "      <td>5.110000</td>\n",
       "      <td>3.100000</td>\n",
       "      <td>4.900000</td>\n",
       "      <td>4.980000</td>\n",
       "    </tr>\n",
       "    <tr>\n",
       "      <th>75%</th>\n",
       "      <td>653.980000</td>\n",
       "      <td>35.260000</td>\n",
       "      <td>48.850000</td>\n",
       "      <td>8.730000</td>\n",
       "      <td>20.000000</td>\n",
       "      <td>30.820000</td>\n",
       "    </tr>\n",
       "    <tr>\n",
       "      <th>max</th>\n",
       "      <td>15199.440000</td>\n",
       "      <td>174.990000</td>\n",
       "      <td>519.260000</td>\n",
       "      <td>58.610000</td>\n",
       "      <td>115.000000</td>\n",
       "      <td>165.660000</td>\n",
       "    </tr>\n",
       "  </tbody>\n",
       "</table>\n",
       "</div>"
      ],
      "text/plain": [
       "          issueSize         QIB         NII         RII  changeOpen  \\\n",
       "count    377.000000  377.000000  377.000000  377.000000  377.000000   \n",
       "mean     788.445756   24.173740   45.290769    7.406233   12.177719   \n",
       "std     1733.208105   36.514817   83.260988   10.521354   22.735748   \n",
       "min       14.000000    0.010000    0.030000    0.030000  -31.700000   \n",
       "25%       85.930000    1.340000    1.740000    1.180000   -1.900000   \n",
       "50%      248.070000    5.690000    5.110000    3.100000    4.900000   \n",
       "75%      653.980000   35.260000   48.850000    8.730000   20.000000   \n",
       "max    15199.440000  174.990000  519.260000   58.610000  115.000000   \n",
       "\n",
       "            Total  \n",
       "count  377.000000  \n",
       "mean    21.196684  \n",
       "std     31.176710  \n",
       "min      0.440000  \n",
       "25%      1.810000  \n",
       "50%      4.980000  \n",
       "75%     30.820000  \n",
       "max    165.660000  "
      ]
     },
     "execution_count": 92,
     "metadata": {},
     "output_type": "execute_result"
    }
   ],
   "source": [
    "ipo.describe()"
   ]
  },
  {
   "cell_type": "markdown",
   "metadata": {},
   "source": [
    "#### Distplot of independent variables"
   ]
  },
  {
   "cell_type": "code",
   "execution_count": 93,
   "metadata": {},
   "outputs": [
    {
     "data": {
      "text/plain": [
       "<matplotlib.axes._subplots.AxesSubplot at 0x196e89e7730>"
      ]
     },
     "execution_count": 93,
     "metadata": {},
     "output_type": "execute_result"
    },
    {
     "data": {
      "image/png": "[encoded data removed]",
      "text/plain": [
       "<Figure size 432x288 with 1 Axes>"
      ]
     },
     "metadata": {},
     "output_type": "display_data"
    }
   ],
   "source": [
    "sns.distplot(ipo[dep_var[1]])\n",
    "    "
   ]
  },
  {
   "cell_type": "code",
   "execution_count": 94,
   "metadata": {},
   "outputs": [
    {
     "data": {
      "text/plain": [
       "<matplotlib.axes._subplots.AxesSubplot at 0x196e8a8adc0>"
      ]
     },
     "execution_count": 94,
     "metadata": {},
     "output_type": "execute_result"
    },
    {
     "data": {
      "image/png": "[encoded data removed]",
      "text/plain": [
       "<Figure size 432x288 with 1 Axes>"
      ]
     },
     "metadata": {},
     "output_type": "display_data"
    }
   ],
   "source": [
    "sns.distplot(ipo[dep_var[2]])\n",
    "    "
   ]
  },
  {
   "cell_type": "code",
   "execution_count": 95,
   "metadata": {},
   "outputs": [
    {
     "data": {
      "text/plain": [
       "<matplotlib.axes._subplots.AxesSubplot at 0x196e8889f10>"
      ]
     },
     "execution_count": 95,
     "metadata": {},
     "output_type": "execute_result"
    },
    {
     "data": {
      "image/png": "[encoded data removed]",
      "text/plain": [
       "<Figure size 432x288 with 1 Axes>"
      ]
     },
     "metadata": {},
     "output_type": "display_data"
    }
   ],
   "source": [
    "sns.distplot(ipo[dep_var[3]])\n",
    "    "
   ]
  },
  {
   "cell_type": "markdown",
   "metadata": {},
   "source": [
    "#### scatter plot to confirm our findings from heatmap"
   ]
  },
  {
   "cell_type": "code",
   "execution_count": 96,
   "metadata": {},
   "outputs": [
    {
     "data": {
      "text/plain": [
       "<matplotlib.axes._subplots.AxesSubplot at 0x196e88857f0>"
      ]
     },
     "execution_count": 96,
     "metadata": {},
     "output_type": "execute_result"
    },
    {
     "data": {
      "image/png": "[encoded data removed]",
      "text/plain": [
       "<Figure size 432x288 with 1 Axes>"
      ]
     },
     "metadata": {},
     "output_type": "display_data"
    }
   ],
   "source": [
    "sns.scatterplot(ipo.changeOpen,ipo.QIB)"
   ]
  },
  {
   "cell_type": "code",
   "execution_count": 97,
   "metadata": {},
   "outputs": [
    {
     "data": {
      "text/plain": [
       "<matplotlib.axes._subplots.AxesSubplot at 0x196e8a148b0>"
      ]
     },
     "execution_count": 97,
     "metadata": {},
     "output_type": "execute_result"
    },
    {
     "data": {
      "image/png": "[encoded data removed]",
      "text/plain": [
       "<Figure size 432x288 with 1 Axes>"
      ]
     },
     "metadata": {},
     "output_type": "display_data"
    }
   ],
   "source": [
    "sns.scatterplot(ipo.changeOpen,ipo.NII)"
   ]
  },
  {
   "cell_type": "code",
   "execution_count": 98,
   "metadata": {},
   "outputs": [
    {
     "data": {
      "text/plain": [
       "<matplotlib.axes._subplots.AxesSubplot at 0x196e8be7c70>"
      ]
     },
     "execution_count": 98,
     "metadata": {},
     "output_type": "execute_result"
    },
    {
     "data": {
      "image/png": "[encoded data removed]",
      "text/plain": [
       "<Figure size 432x288 with 1 Axes>"
      ]
     },
     "metadata": {},
     "output_type": "display_data"
    }
   ],
   "source": [
    "sns.scatterplot(ipo.changeOpen,ipo.RII)"
   ]
  },
  {
   "cell_type": "code",
   "execution_count": 99,
   "metadata": {},
   "outputs": [
    {
     "data": {
      "text/plain": [
       "<matplotlib.axes._subplots.AxesSubplot at 0x196e8c53d90>"
      ]
     },
     "execution_count": 99,
     "metadata": {},
     "output_type": "execute_result"
    },
    {
     "data": {
      "image/png": "[encoded data removed]",
      "text/plain": [
       "<Figure size 432x288 with 1 Axes>"
      ]
     },
     "metadata": {},
     "output_type": "display_data"
    }
   ],
   "source": [
    "sns.scatterplot(ipo.changeOpen,ipo.issueSize)"
   ]
  },
  {
   "cell_type": "markdown",
   "metadata": {},
   "source": [
    "### Log- transformation - To deal with skewness"
   ]
  },
  {
   "cell_type": "code",
   "execution_count": 100,
   "metadata": {},
   "outputs": [],
   "source": [
    "x_log = np.log(ipo[['NII', 'QIB',\"RII\"]])\n",
    "y = ipo[dep_var[-1]]"
   ]
  },
  {
   "cell_type": "code",
   "execution_count": 101,
   "metadata": {},
   "outputs": [
    {
     "data": {
      "text/html": [
       "<div>\n",
       "<style scoped>\n",
       "    .dataframe tbody tr th:only-of-type {\n",
       "        vertical-align: middle;\n",
       "    }\n",
       "\n",
       "    .dataframe tbody tr th {\n",
       "        vertical-align: top;\n",
       "    }\n",
       "\n",
       "    .dataframe thead th {\n",
       "        text-align: right;\n",
       "    }\n",
       "</style>\n",
       "<table border=\"1\" class=\"dataframe\">\n",
       "  <thead>\n",
       "    <tr style=\"text-align: right;\">\n",
       "      <th></th>\n",
       "      <th>NII</th>\n",
       "      <th>QIB</th>\n",
       "      <th>RII</th>\n",
       "    </tr>\n",
       "  </thead>\n",
       "  <tbody>\n",
       "    <tr>\n",
       "      <th>0</th>\n",
       "      <td>-0.673345</td>\n",
       "      <td>1.856298</td>\n",
       "      <td>-1.427116</td>\n",
       "    </tr>\n",
       "    <tr>\n",
       "      <th>1</th>\n",
       "      <td>-1.514128</td>\n",
       "      <td>1.363537</td>\n",
       "      <td>0.732368</td>\n",
       "    </tr>\n",
       "    <tr>\n",
       "      <th>2</th>\n",
       "      <td>0.431782</td>\n",
       "      <td>3.090588</td>\n",
       "      <td>3.165897</td>\n",
       "    </tr>\n",
       "    <tr>\n",
       "      <th>4</th>\n",
       "      <td>-0.072571</td>\n",
       "      <td>1.205971</td>\n",
       "      <td>0.841567</td>\n",
       "    </tr>\n",
       "    <tr>\n",
       "      <th>5</th>\n",
       "      <td>-0.371064</td>\n",
       "      <td>1.747459</td>\n",
       "      <td>1.460938</td>\n",
       "    </tr>\n",
       "    <tr>\n",
       "      <th>...</th>\n",
       "      <td>...</td>\n",
       "      <td>...</td>\n",
       "      <td>...</td>\n",
       "    </tr>\n",
       "    <tr>\n",
       "      <th>414</th>\n",
       "      <td>4.170225</td>\n",
       "      <td>4.771532</td>\n",
       "      <td>2.517696</td>\n",
       "    </tr>\n",
       "    <tr>\n",
       "      <th>415</th>\n",
       "      <td>3.479392</td>\n",
       "      <td>2.788708</td>\n",
       "      <td>2.522524</td>\n",
       "    </tr>\n",
       "    <tr>\n",
       "      <th>416</th>\n",
       "      <td>-0.755023</td>\n",
       "      <td>0.307485</td>\n",
       "      <td>-0.094311</td>\n",
       "    </tr>\n",
       "    <tr>\n",
       "      <th>417</th>\n",
       "      <td>3.394173</td>\n",
       "      <td>2.728506</td>\n",
       "      <td>2.672768</td>\n",
       "    </tr>\n",
       "    <tr>\n",
       "      <th>418</th>\n",
       "      <td>3.727619</td>\n",
       "      <td>4.044103</td>\n",
       "      <td>2.406044</td>\n",
       "    </tr>\n",
       "  </tbody>\n",
       "</table>\n",
       "<p>377 rows × 3 columns</p>\n",
       "</div>"
      ],
      "text/plain": [
       "          NII       QIB       RII\n",
       "0   -0.673345  1.856298 -1.427116\n",
       "1   -1.514128  1.363537  0.732368\n",
       "2    0.431782  3.090588  3.165897\n",
       "4   -0.072571  1.205971  0.841567\n",
       "5   -0.371064  1.747459  1.460938\n",
       "..        ...       ...       ...\n",
       "414  4.170225  4.771532  2.517696\n",
       "415  3.479392  2.788708  2.522524\n",
       "416 -0.755023  0.307485 -0.094311\n",
       "417  3.394173  2.728506  2.672768\n",
       "418  3.727619  4.044103  2.406044\n",
       "\n",
       "[377 rows x 3 columns]"
      ]
     },
     "execution_count": 101,
     "metadata": {},
     "output_type": "execute_result"
    }
   ],
   "source": [
    "x_log"
   ]
  },
  {
   "cell_type": "markdown",
   "metadata": {},
   "source": [
    "#### Distplot of log transformed dataset"
   ]
  },
  {
   "cell_type": "code",
   "execution_count": 102,
   "metadata": {},
   "outputs": [
    {
     "data": {
      "text/plain": [
       "<matplotlib.axes._subplots.AxesSubplot at 0x196e8ca7be0>"
      ]
     },
     "execution_count": 102,
     "metadata": {},
     "output_type": "execute_result"
    },
    {
     "data": {
      "image/png": "[encoded data removed]",
      "text/plain": [
       "<Figure size 432x288 with 1 Axes>"
      ]
     },
     "metadata": {},
     "output_type": "display_data"
    }
   ],
   "source": [
    "sns.distplot(np.log(ipo.QIB))"
   ]
  },
  {
   "cell_type": "code",
   "execution_count": 103,
   "metadata": {},
   "outputs": [
    {
     "data": {
      "text/plain": [
       "<matplotlib.axes._subplots.AxesSubplot at 0x196e8ceaa60>"
      ]
     },
     "execution_count": 103,
     "metadata": {},
     "output_type": "execute_result"
    },
    {
     "data": {
      "image/png": "[encoded data removed]",
      "text/plain": [
       "<Figure size 432x288 with 1 Axes>"
      ]
     },
     "metadata": {},
     "output_type": "display_data"
    }
   ],
   "source": [
    "sns.distplot(np.log(ipo.NII))"
   ]
  },
  {
   "cell_type": "code",
   "execution_count": 104,
   "metadata": {},
   "outputs": [
    {
     "data": {
      "text/plain": [
       "<matplotlib.axes._subplots.AxesSubplot at 0x196e8d879d0>"
      ]
     },
     "execution_count": 104,
     "metadata": {},
     "output_type": "execute_result"
    },
    {
     "data": {
      "image/png": "[encoded data removed]",
      "text/plain": [
       "<Figure size 432x288 with 1 Axes>"
      ]
     },
     "metadata": {},
     "output_type": "display_data"
    }
   ],
   "source": [
    "sns.distplot(np.log(ipo.RII))"
   ]
  },
  {
   "cell_type": "markdown",
   "metadata": {},
   "source": [
    "## log-level multiple linear regression model"
   ]
  },
  {
   "cell_type": "code",
   "execution_count": 105,
   "metadata": {},
   "outputs": [
    {
     "name": "stdout",
     "output_type": "stream",
     "text": [
      "0.5054781155908643\n"
     ]
    }
   ],
   "source": [
    "ans = 0\n",
    "for i in range(50):\n",
    "    from sklearn.model_selection import train_test_split\n",
    "    scaler = StandardScaler()\n",
    "    scaler.fit(x_log)\n",
    "    x_train,x_test,y_train,y_test = train_test_split(x_log,y,test_size = 0.2)\n",
    "#     x_scaled = scaler.transform(x_train)\n",
    "#     xtest_scaled = scaler.transform(x_test)\n",
    "\n",
    "    reg = LinearRegression()\n",
    "    reg.fit(x_train,y_train)\n",
    "\n",
    "    ans += reg.score(x_test,y_test)\n",
    "print(ans/50)    "
   ]
  },
  {
   "cell_type": "markdown",
   "metadata": {},
   "source": [
    "### R-squared = 0.50"
   ]
  },
  {
   "cell_type": "markdown",
   "metadata": {},
   "source": [
    "## Non- transformed, scaled dataset\n"
   ]
  },
  {
   "cell_type": "code",
   "execution_count": 106,
   "metadata": {},
   "outputs": [
    {
     "data": {
      "text/html": [
       "<div>\n",
       "<style scoped>\n",
       "    .dataframe tbody tr th:only-of-type {\n",
       "        vertical-align: middle;\n",
       "    }\n",
       "\n",
       "    .dataframe tbody tr th {\n",
       "        vertical-align: top;\n",
       "    }\n",
       "\n",
       "    .dataframe thead th {\n",
       "        text-align: right;\n",
       "    }\n",
       "</style>\n",
       "<table border=\"1\" class=\"dataframe\">\n",
       "  <thead>\n",
       "    <tr style=\"text-align: right;\">\n",
       "      <th></th>\n",
       "      <th>QIB</th>\n",
       "      <th>RII</th>\n",
       "      <th>NII</th>\n",
       "    </tr>\n",
       "  </thead>\n",
       "  <tbody>\n",
       "    <tr>\n",
       "      <th>0</th>\n",
       "      <td>6.40</td>\n",
       "      <td>0.24</td>\n",
       "      <td>0.51</td>\n",
       "    </tr>\n",
       "    <tr>\n",
       "      <th>1</th>\n",
       "      <td>3.91</td>\n",
       "      <td>2.08</td>\n",
       "      <td>0.22</td>\n",
       "    </tr>\n",
       "    <tr>\n",
       "      <th>2</th>\n",
       "      <td>21.99</td>\n",
       "      <td>23.71</td>\n",
       "      <td>1.54</td>\n",
       "    </tr>\n",
       "    <tr>\n",
       "      <th>4</th>\n",
       "      <td>3.34</td>\n",
       "      <td>2.32</td>\n",
       "      <td>0.93</td>\n",
       "    </tr>\n",
       "    <tr>\n",
       "      <th>5</th>\n",
       "      <td>5.74</td>\n",
       "      <td>4.31</td>\n",
       "      <td>0.69</td>\n",
       "    </tr>\n",
       "    <tr>\n",
       "      <th>...</th>\n",
       "      <td>...</td>\n",
       "      <td>...</td>\n",
       "      <td>...</td>\n",
       "    </tr>\n",
       "    <tr>\n",
       "      <th>414</th>\n",
       "      <td>118.10</td>\n",
       "      <td>12.40</td>\n",
       "      <td>64.73</td>\n",
       "    </tr>\n",
       "    <tr>\n",
       "      <th>415</th>\n",
       "      <td>16.26</td>\n",
       "      <td>12.46</td>\n",
       "      <td>32.44</td>\n",
       "    </tr>\n",
       "    <tr>\n",
       "      <th>416</th>\n",
       "      <td>1.36</td>\n",
       "      <td>0.91</td>\n",
       "      <td>0.47</td>\n",
       "    </tr>\n",
       "    <tr>\n",
       "      <th>417</th>\n",
       "      <td>15.31</td>\n",
       "      <td>14.48</td>\n",
       "      <td>29.79</td>\n",
       "    </tr>\n",
       "    <tr>\n",
       "      <th>418</th>\n",
       "      <td>57.06</td>\n",
       "      <td>11.09</td>\n",
       "      <td>41.58</td>\n",
       "    </tr>\n",
       "  </tbody>\n",
       "</table>\n",
       "<p>377 rows × 3 columns</p>\n",
       "</div>"
      ],
      "text/plain": [
       "        QIB    RII    NII\n",
       "0      6.40   0.24   0.51\n",
       "1      3.91   2.08   0.22\n",
       "2     21.99  23.71   1.54\n",
       "4      3.34   2.32   0.93\n",
       "5      5.74   4.31   0.69\n",
       "..      ...    ...    ...\n",
       "414  118.10  12.40  64.73\n",
       "415   16.26  12.46  32.44\n",
       "416    1.36   0.91   0.47\n",
       "417   15.31  14.48  29.79\n",
       "418   57.06  11.09  41.58\n",
       "\n",
       "[377 rows x 3 columns]"
      ]
     },
     "execution_count": 106,
     "metadata": {},
     "output_type": "execute_result"
    }
   ],
   "source": [
    "x = ipo[['QIB', 'RII',\"NII\"]]\n",
    "y = ipo[dep_var[-1]]\n",
    "x"
   ]
  },
  {
   "cell_type": "code",
   "execution_count": 107,
   "metadata": {},
   "outputs": [
    {
     "name": "stdout",
     "output_type": "stream",
     "text": [
      "0.6239167226437518\n"
     ]
    }
   ],
   "source": [
    "ans = 0\n",
    "for i in range(50):\n",
    "\n",
    "    \n",
    "    from sklearn.preprocessing import StandardScaler\n",
    "    from sklearn.model_selection import train_test_split\n",
    "    scaler = StandardScaler()\n",
    "    scaler.fit(x)\n",
    "    x_train,x_test,y_train,y_test = train_test_split(x,y,test_size = 0.2,random_state=i)\n",
    "    x_scaled = scaler.transform(x_train)\n",
    "    xtest_scaled = scaler.transform(x_test)\n",
    "\n",
    "    reg = LinearRegression()\n",
    "    reg.fit(x_scaled,y_train)\n",
    "\n",
    "    reg.predict(xtest_scaled)\n",
    "\n",
    "\n",
    "    ans += (reg.score(xtest_scaled,y_test))\n",
    "print(ans/50)"
   ]
  },
  {
   "cell_type": "markdown",
   "metadata": {},
   "source": [
    "### R-squared  = 0.62"
   ]
  },
  {
   "cell_type": "code",
   "execution_count": null,
   "metadata": {},
   "outputs": [],
   "source": []
  },
  {
   "cell_type": "code",
   "execution_count": null,
   "metadata": {
    "scrolled": true
   },
   "outputs": [],
   "source": []
  },
  {
   "cell_type": "code",
   "execution_count": null,
   "metadata": {},
   "outputs": [],
   "source": []
  },
  {
   "cell_type": "code",
   "execution_count": null,
   "metadata": {},
   "outputs": [],
   "source": []
  },
  {
   "cell_type": "code",
   "execution_count": null,
   "metadata": {},
   "outputs": [],
   "source": []
  },
  {
   "cell_type": "code",
   "execution_count": null,
   "metadata": {},
   "outputs": [],
   "source": []
  },
  {
   "cell_type": "code",
   "execution_count": null,
   "metadata": {},
   "outputs": [],
   "source": []
  },
  {
   "cell_type": "code",
   "execution_count": null,
   "metadata": {},
   "outputs": [],
   "source": []
  },
  {
   "cell_type": "code",
   "execution_count": null,
   "metadata": {},
   "outputs": [],
   "source": []
  },
  {
   "cell_type": "code",
   "execution_count": null,
   "metadata": {},
   "outputs": [],
   "source": []
  },
  {
   "cell_type": "code",
   "execution_count": 55,
   "metadata": {},
   "outputs": [],
   "source": []
  },
  {
   "cell_type": "code",
   "execution_count": null,
   "metadata": {},
   "outputs": [],
   "source": []
  },
  {
   "cell_type": "code",
   "execution_count": null,
   "metadata": {},
   "outputs": [],
   "source": []
  },
  {
   "cell_type": "code",
   "execution_count": null,
   "metadata": {},
   "outputs": [],
   "source": []
  },
  {
   "cell_type": "code",
   "execution_count": null,
   "metadata": {
    "scrolled": true
   },
   "outputs": [],
   "source": []
  },
  {
   "cell_type": "code",
   "execution_count": null,
   "metadata": {
    "scrolled": true
   },
   "outputs": [],
   "source": []
  },
  {
   "cell_type": "code",
   "execution_count": null,
   "metadata": {},
   "outputs": [],
   "source": []
  },
  {
   "cell_type": "markdown",
   "metadata": {},
   "source": []
  },
  {
   "cell_type": "code",
   "execution_count": null,
   "metadata": {},
   "outputs": [],
   "source": []
  },
  {
   "cell_type": "code",
   "execution_count": null,
   "metadata": {},
   "outputs": [],
   "source": []
  },
  {
   "cell_type": "code",
   "execution_count": null,
   "metadata": {},
   "outputs": [],
   "source": []
  },
  {
   "cell_type": "code",
   "execution_count": null,
   "metadata": {},
   "outputs": [],
   "source": []
  },
  {
   "cell_type": "code",
   "execution_count": null,
   "metadata": {},
   "outputs": [],
   "source": []
  },
  {
   "cell_type": "code",
   "execution_count": null,
   "metadata": {},
   "outputs": [],
   "source": []
  },
  {
   "cell_type": "code",
   "execution_count": null,
   "metadata": {},
   "outputs": [],
   "source": []
  },
  {
   "cell_type": "code",
   "execution_count": null,
   "metadata": {},
   "outputs": [],
   "source": []
  },
  {
   "cell_type": "code",
   "execution_count": null,
   "metadata": {},
   "outputs": [],
   "source": []
  },
  {
   "cell_type": "code",
   "execution_count": null,
   "metadata": {},
   "outputs": [],
   "source": []
  },
  {
   "cell_type": "code",
   "execution_count": null,
   "metadata": {},
   "outputs": [],
   "source": []
  },
  {
   "cell_type": "markdown",
   "metadata": {},
   "source": []
  },
  {
   "cell_type": "code",
   "execution_count": null,
   "metadata": {},
   "outputs": [],
   "source": []
  },
  {
   "cell_type": "code",
   "execution_count": null,
   "metadata": {},
   "outputs": [],
   "source": []
  },
  {
   "cell_type": "code",
   "execution_count": null,
   "metadata": {},
   "outputs": [],
   "source": []
  },
  {
   "cell_type": "code",
   "execution_count": null,
   "metadata": {},
   "outputs": [],
   "source": []
  },
  {
   "cell_type": "code",
   "execution_count": null,
   "metadata": {},
   "outputs": [],
   "source": [
    "    "
   ]
  },
  {
   "cell_type": "code",
   "execution_count": null,
   "metadata": {},
   "outputs": [],
   "source": []
  },
  {
   "cell_type": "code",
   "execution_count": null,
   "metadata": {},
   "outputs": [],
   "source": [
    "\n"
   ]
  },
  {
   "cell_type": "code",
   "execution_count": null,
   "metadata": {},
   "outputs": [],
   "source": []
  },
  {
   "cell_type": "code",
   "execution_count": null,
   "metadata": {},
   "outputs": [],
   "source": []
  },
  {
   "cell_type": "code",
   "execution_count": null,
   "metadata": {},
   "outputs": [],
   "source": []
  },
  {
   "cell_type": "code",
   "execution_count": null,
   "metadata": {
    "scrolled": true
   },
   "outputs": [],
   "source": []
  },
  {
   "cell_type": "code",
   "execution_count": null,
   "metadata": {},
   "outputs": [],
   "source": []
  },
  {
   "cell_type": "code",
   "execution_count": null,
   "metadata": {},
   "outputs": [],
   "source": []
  },
  {
   "cell_type": "code",
   "execution_count": null,
   "metadata": {},
   "outputs": [],
   "source": []
  },
  {
   "cell_type": "code",
   "execution_count": null,
   "metadata": {},
   "outputs": [],
   "source": []
  },
  {
   "cell_type": "code",
   "execution_count": null,
   "metadata": {},
   "outputs": [],
   "source": []
  },
  {
   "cell_type": "code",
   "execution_count": null,
   "metadata": {},
   "outputs": [],
   "source": []
  },
  {
   "cell_type": "code",
   "execution_count": null,
   "metadata": {},
   "outputs": [],
   "source": []
  },
  {
   "cell_type": "code",
   "execution_count": null,
   "metadata": {},
   "outputs": [],
   "source": []
  },
  {
   "cell_type": "code",
   "execution_count": null,
   "metadata": {},
   "outputs": [],
   "source": []
  },
  {
   "cell_type": "code",
   "execution_count": null,
   "metadata": {},
   "outputs": [],
   "source": []
  },
  {
   "cell_type": "code",
   "execution_count": null,
   "metadata": {},
   "outputs": [],
   "source": []
  }
 ],
 "metadata": {
  "kernelspec": {
   "display_name": "Python 3",
   "language": "python",
   "name": "python3"
  },
  "language_info": {
   "codemirror_mode": {
    "name": "ipython",
    "version": 3
   },
   "file_extension": ".py",
   "mimetype": "text/x-python",
   "name": "python",
   "nbconvert_exporter": "python",
   "pygments_lexer": "ipython3",
   "version": "3.8.3"
  }
 },
 "nbformat": 4,
 "nbformat_minor": 4
}
